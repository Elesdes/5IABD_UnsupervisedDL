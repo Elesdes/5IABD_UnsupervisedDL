{
 "cells": [
  {
   "cell_type": "markdown",
   "source": [
    "# ACP"
   ],
   "metadata": {
    "collapsed": false
   },
   "id": "5c21b2f9d8ea2a0b"
  },
  {
   "cell_type": "code",
   "execution_count": null,
   "id": "initial_id",
   "metadata": {
    "collapsed": true
   },
   "outputs": [],
   "source": [
    "import matplotlib.pyplot as plt\n",
    "import numpy as np\n",
    "import pandas as pd\n",
    "from PIL import Image\n",
    "import os\n",
    "import math\n",
    "from sklearn.decomposition import PCA\n",
    "from tensorflow import keras\n",
    "from sklearn.utils import shuffle"
   ]
  },
  {
   "cell_type": "markdown",
   "source": [
    "## Load the dataset"
   ],
   "metadata": {
    "collapsed": false
   }
  },
  {
   "cell_type": "code",
   "execution_count": null,
   "outputs": [],
   "source": [
    "def load_data_ACP(choice=0):\n",
    "    if choice:\n",
    "        data_dir = 'Data/64'\n",
    "        image_list = []\n",
    "        target_list = []\n",
    "        target = 0\n",
    "        for subdir, dirs, files in os.walk(data_dir):\n",
    "            for file in files:\n",
    "                target_list.append(target)\n",
    "                file_path = os.path.join(subdir, file)\n",
    "                try:\n",
    "                    with Image.open(file_path) as img:\n",
    "                        img = img.convert('L')\n",
    "                        # img = img.resize((28, 28), Image.ANTIALIAS)\n",
    "                        img_array = np.array(img)\n",
    "                        image_list.append(img_array)\n",
    "                except Exception as e:\n",
    "                    print(f\"Error loading image {file_path}: {e}\")\n",
    "            target += 1\n",
    "\n",
    "        # print(np.array(image_list))\n",
    "        return (np.array(image_list), np.array(target_list)), (None, None)\n",
    "    else:\n",
    "        return keras.datasets.mnist.load_data()"
   ],
   "metadata": {
    "collapsed": false
   }
  },
  {
   "cell_type": "markdown",
   "source": [
    "## This section is in case we need to test it with an actual library"
   ],
   "metadata": {
    "collapsed": false
   },
   "id": "70c76b9fe62f2d1d"
  },
  {
   "cell_type": "code",
   "outputs": [],
   "source": [
    "def compare_pca(data, target):\n",
    "    data = data.reshape((data.shape[0], -1))\n",
    "    pca_2d = PCA(n_components=2)\n",
    "    X_pca_2d = pca_2d.fit_transform(data)\n",
    "\n",
    "    plt.figure(figsize=(8, 6))\n",
    "    scatter = plt.scatter(X_pca_2d[:, 0], X_pca_2d[:, 1], c=target, cmap='viridis', edgecolor='k', s=40)\n",
    "    plt.colorbar(scatter)\n",
    "    plt.title('MNIST Digits PCA (2D)')\n",
    "    plt.xlabel('Composante Principale 1')\n",
    "    plt.ylabel('Composante Principale 2')\n",
    "    plt.show()\n",
    "\n",
    "    pca_3d = PCA(n_components=3)\n",
    "    X_pca_3d = pca_3d.fit_transform(data)\n",
    "    fig = plt.figure(figsize=(10, 8))\n",
    "    ax = fig.add_subplot(111, projection='3d')\n",
    "    scatter = ax.scatter(X_pca_3d[:, 0], X_pca_3d[:, 1], X_pca_3d[:, 2], c=target, cmap='viridis', edgecolor='k', s=40)\n",
    "    ax.set_title('MNIST Digits PCA (3D)')\n",
    "    ax.set_xlabel('Composante Principale 1')\n",
    "    ax.set_ylabel('Composante Principale 2')\n",
    "    ax.set_zlabel('Composante Principale 3')\n",
    "    fig.colorbar(scatter)\n",
    "    plt.show()"
   ],
   "metadata": {
    "collapsed": false
   },
   "id": "6ec0a2c4740c6043"
  },
  {
   "cell_type": "markdown",
   "source": [
    "## If we want to standardized with the global dataset"
   ],
   "metadata": {
    "collapsed": false
   },
   "id": "e0c8655940c0b17d"
  },
  {
   "cell_type": "code",
   "outputs": [],
   "source": [
    "def standardized_global(x_train, x_test):\n",
    "    means = x_train.values.mean()\n",
    "    std = x_train.values.std()\n",
    "    df_train_centered = (x_train - means) / std\n",
    "\n",
    "    means = x_test.values.mean()\n",
    "    std = x_test.values.std()\n",
    "    df_test_centered = (x_test - means) / std\n",
    "    return df_train_centered, df_test_centered, std, means"
   ],
   "metadata": {
    "collapsed": false
   },
   "id": "4934b87b3ec9146c"
  },
  {
   "cell_type": "markdown",
   "source": [
    "## If we want to standardized with the pixels dataset"
   ],
   "metadata": {
    "collapsed": false
   },
   "id": "762117fa6cc9d77e"
  },
  {
   "cell_type": "code",
   "outputs": [],
   "source": [
    "def standardized_by_pixels(x_train):\n",
    "    means = x_train.mean(axis=1)\n",
    "    std = x_train.std(axis=1, ddof=0)\n",
    "    zero_std_columns = std.index[std == 0]\n",
    "    epsilon = 1e-8\n",
    "    std[zero_std_columns] += epsilon\n",
    "    x_train = x_train.to_numpy()\n",
    "    means = means.to_numpy()\n",
    "    std = std.to_numpy()\n",
    "    means = means.reshape(-1, 1)\n",
    "    std = std.reshape(-1, 1)\n",
    "    x_train = (x_train - means)/std\n",
    "    return x_train, std, means"
   ],
   "metadata": {
    "collapsed": false
   },
   "id": "84639e767c2df63b"
  },
  {
   "cell_type": "markdown",
   "source": [
    "## Generate Data? Tried something"
   ],
   "metadata": {
    "collapsed": false
   },
   "id": "3700b8187fa5d96d"
  },
  {
   "cell_type": "code",
   "outputs": [],
   "source": [
    "def generate(df_centered, eig_vectors_sorted, std, means, k=80):\n",
    "    principal_components = eig_vectors_sorted[:, :k]\n",
    "    df_reduced = np.dot(df_centered, principal_components)\n",
    "    mean_reduced = np.mean(df_reduced, axis=0)\n",
    "    cov_reduced = np.cov(df_reduced, rowvar=False)\n",
    "    new_data_reduced = np.random.multivariate_normal(mean_reduced, cov_reduced)\n",
    "    decoded_images = np.dot(new_data_reduced, principal_components.T)\n",
    "    decoded_images = decoded_images * std + means\n",
    "    return decoded_images"
   ],
   "metadata": {
    "collapsed": false
   },
   "id": "8553cbb5384be25e"
  },
  {
   "cell_type": "markdown",
   "source": [
    "## Decode the compressed data"
   ],
   "metadata": {
    "collapsed": false
   },
   "id": "9845b07ca44991e2"
  },
  {
   "cell_type": "code",
   "outputs": [],
   "source": [
    "def decode(df_centered, eig_vectors_sorted, std, means, k=80):\n",
    "    principal_components = eig_vectors_sorted[:, :k]\n",
    "    df_reduced = np.dot(df_centered, principal_components)\n",
    "    decoded_images = np.dot(df_reduced, principal_components.T)\n",
    "    decoded_images = decoded_images * std + means\n",
    "    return decoded_images"
   ],
   "metadata": {
    "collapsed": false
   },
   "id": "87038f0ab02e91c6"
  },
  {
   "cell_type": "markdown",
   "source": [
    "## Viz 2D"
   ],
   "metadata": {
    "collapsed": false
   },
   "id": "abc90b3e95db348b"
  },
  {
   "cell_type": "code",
   "execution_count": null,
   "outputs": [],
   "source": [
    "def viz_2D(df_centered, target, title):\n",
    "    k = 2\n",
    "    principal_components = eig_vectors_sorted[:, :k]\n",
    "    df_reduced = np.dot(df_centered, principal_components)\n",
    "    plt.figure(figsize=(8, 6))\n",
    "    plt.scatter(df_reduced[:, 0], df_reduced[:, 1], c=target, cmap='viridis', s=2)\n",
    "    plt.xlabel('Composante principale 1')\n",
    "    plt.ylabel('Composante principale 2')\n",
    "    plt.title(title)\n",
    "    plt.colorbar()\n",
    "    plt.show()"
   ],
   "metadata": {
    "collapsed": false
   }
  },
  {
   "cell_type": "markdown",
   "source": [
    "## Viz 3D"
   ],
   "metadata": {
    "collapsed": false
   },
   "id": "47b9d27a949bc182"
  },
  {
   "cell_type": "code",
   "outputs": [],
   "source": [
    "def viz_3D(df_centered, target, title):\n",
    "    k = 3\n",
    "    principal_components = eig_vectors_sorted[:, :k]\n",
    "    df_reduced = np.dot(df_centered, principal_components)\n",
    "    fig = plt.figure(figsize=(10, 8))\n",
    "    ax = fig.add_subplot(111, projection='3d')\n",
    "    sc = ax.scatter(df_reduced[:, 0], df_reduced[:, 1], df_reduced[:, 2], c=target, cmap='viridis', s=2)\n",
    "    ax.set_xlabel('Composante principale 1')\n",
    "    ax.set_ylabel('Composante principale 2')\n",
    "    ax.set_zlabel('Composante principale 3')\n",
    "    plt.title(title)\n",
    "    plt.colorbar(sc)\n",
    "    plt.show()"
   ],
   "metadata": {
    "collapsed": false
   },
   "id": "ad6ad57fca61238"
  },
  {
   "cell_type": "markdown",
   "source": [
    "## We might need to analyze which K we want to take "
   ],
   "metadata": {
    "collapsed": false
   },
   "id": "9b4cb8f632f11303"
  },
  {
   "cell_type": "code",
   "outputs": [],
   "source": [
    "def know_k(eig_values_sorted, target_percent=0.85):\n",
    "    # Variance en ordonnées et K en abscisse pour connaitre le K à prendre.\n",
    "    variance_explained = eig_values_sorted / np.sum(eig_values_sorted)\n",
    "    cumulative_variance_explained = np.cumsum(variance_explained)\n",
    "    plt.figure(figsize=(10, 6))\n",
    "    # plt.plot(range(1, len(variance_explained) + 1), variance_explained, marker='o', linestyle='--', label='Variance')\n",
    "    plt.plot(range(1, len(cumulative_variance_explained) + 1), cumulative_variance_explained, marker='o', linestyle='-', label='Variance cumulée')\n",
    "    plt.xlabel('Nombre de composantes principales (k)')\n",
    "    plt.ylabel('Proportion de variance')\n",
    "    plt.title('Scree Plot')\n",
    "    plt.legend()\n",
    "    plt.grid(True)\n",
    "    plt.show()\n",
    "    return np.argmax(cumulative_variance_explained > target_percent)"
   ],
   "metadata": {
    "collapsed": false
   },
   "id": "cc27ebe159fee6e8"
  },
  {
   "cell_type": "markdown",
   "source": [
    "## Show image"
   ],
   "metadata": {
    "collapsed": false
   },
   "id": "4f22f3af4ea04b45"
  },
  {
   "cell_type": "code",
   "outputs": [],
   "source": [
    "def show_img(img, label):\n",
    "    img_size = math.isqrt(len(img))\n",
    "    if len(img) % img_size != 0:\n",
    "        raise NotImplementedError(\"Image de taille invalide\")\n",
    "    if type(img) is pd.Series:\n",
    "        img = img.values.reshape(img_size, img_size)\n",
    "    else:\n",
    "        img = img.reshape(img_size, img_size)\n",
    "    plt.imshow(img, cmap='gray')\n",
    "    plt.title(f\"Label: {label}\")\n",
    "    plt.show()"
   ],
   "metadata": {
    "collapsed": false
   },
   "id": "fecf954fb5bbae1"
  },
  {
   "cell_type": "markdown",
   "source": [
    "## Now using the algorithm"
   ],
   "metadata": {
    "collapsed": false
   },
   "id": "853ce98f2598aecc"
  },
  {
   "cell_type": "code",
   "outputs": [],
   "source": [
    "(x_train, y_train), (_, _) = load_data_ACP(1)\n",
    "x_train, y_train = shuffle(x_train, y_train, random_state=0)"
   ],
   "metadata": {
    "collapsed": false
   },
   "id": "5f68a003d8b343d0"
  },
  {
   "cell_type": "code",
   "outputs": [],
   "source": [
    "compare_pca(x_train, y_train)"
   ],
   "metadata": {
    "collapsed": false
   },
   "id": "df7b313a0446c25b"
  },
  {
   "cell_type": "code",
   "outputs": [],
   "source": [
    "x_train = x_train.reshape((x_train.shape[0], -1))\n",
    "df = pd.DataFrame(x_train).astype(int)\n",
    "target = pd.DataFrame(y_train).astype(int)\n",
    "show_img(df.iloc[0], target.iloc[0])"
   ],
   "metadata": {
    "collapsed": false
   },
   "id": "561a059218cb9ff8"
  },
  {
   "cell_type": "code",
   "outputs": [],
   "source": [
    "df_centered, std, means = standardized_by_pixels(df)"
   ],
   "metadata": {
    "collapsed": false
   },
   "id": "1ba7761d09284244"
  },
  {
   "cell_type": "code",
   "outputs": [],
   "source": [
    "# df_centered, df_test = standardized_global(df, df_test)"
   ],
   "metadata": {
    "collapsed": false
   },
   "id": "44e7a9ef05def57f"
  },
  {
   "cell_type": "code",
   "outputs": [],
   "source": [
    "# TODO : A tenter à la main. Il faudra connaitre le calcul et savoir expliquer ce que ca représente.\n",
    "cov_matrix = np.cov(df_centered, rowvar=False)"
   ],
   "metadata": {
    "collapsed": false
   },
   "id": "d0f03a14ff4626b8"
  },
  {
   "cell_type": "code",
   "outputs": [],
   "source": [
    "eig_values, eig_vectors = np.linalg.eigh(cov_matrix)\n",
    "sorted_indices = np.argsort(eig_values)[::-1]\n",
    "eig_values_sorted = eig_values[sorted_indices]\n",
    "eig_vectors_sorted = eig_vectors[:, sorted_indices]"
   ],
   "metadata": {
    "collapsed": false
   },
   "id": "a99883427e69afd4"
  },
  {
   "cell_type": "code",
   "outputs": [],
   "source": [
    "viz_2D(df_centered, target, \"Visualisation 2D pour la moyenne et le std pixels\")\n",
    "viz_3D(df_centered, target, \"Visualisation 3D pour la moyenne et le std pixels\")\n",
    "k = know_k(eig_values_sorted, 0.95)\n",
    "decoded_images = decode(df_centered, eig_vectors_sorted, std, means, eig_vectors_sorted.shape[0])\n",
    "show_img(decoded_images[0], target.iloc[0])\n",
    "decoded_images = decode(df_centered, eig_vectors_sorted, std, means, k)\n",
    "show_img(decoded_images[0], target.iloc[0])\n",
    "decoded_images = generate(df_centered, eig_vectors_sorted, std, means, eig_vectors_sorted.shape[0])\n",
    "show_img(decoded_images[0], target.iloc[0])\n",
    "decoded_images = generate(df_centered, eig_vectors_sorted, std, means, math.floor(eig_vectors_sorted.shape[0]/2))\n",
    "show_img(decoded_images[0], target.iloc[0])\n",
    "decoded_images = generate(df_centered, eig_vectors_sorted, std, means, math.floor(eig_vectors_sorted.shape[0]/3))\n",
    "show_img(decoded_images[0], target.iloc[0])\n",
    "decoded_images = generate(df_centered, eig_vectors_sorted, std, means, math.floor(eig_vectors_sorted.shape[0]/4))\n",
    "show_img(decoded_images[0], target.iloc[0])\n"
   ],
   "metadata": {
    "collapsed": false
   },
   "id": "97bc3e8478d2f526"
  }
 ],
 "metadata": {
  "kernelspec": {
   "display_name": "Python 3",
   "language": "python",
   "name": "python3"
  },
  "language_info": {
   "codemirror_mode": {
    "name": "ipython",
    "version": 2
   },
   "file_extension": ".py",
   "mimetype": "text/x-python",
   "name": "python",
   "nbconvert_exporter": "python",
   "pygments_lexer": "ipython2",
   "version": "2.7.6"
  }
 },
 "nbformat": 4,
 "nbformat_minor": 5
}
